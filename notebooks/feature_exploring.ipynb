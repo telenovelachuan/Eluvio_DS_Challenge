{
 "cells": [
  {
   "cell_type": "code",
   "execution_count": 1,
   "metadata": {},
   "outputs": [
    {
     "name": "stdout",
     "output_type": "stream",
     "text": [
      "Dask client: <bound method Client.__repr__ of <Client: scheduler='inproc://192.168.1.11/40323/1' processes=1 cores=4>>\n"
     ]
    }
   ],
   "source": [
    "import pandas as pd\n",
    "import dask.dataframe as dd\n",
    "from dask.distributed import Client\n",
    "from sklearn.feature_extraction.text import CountVectorizer\n",
    "import matplotlib.pyplot as plt\n",
    "\n",
    "client = Client(processes=False)"
   ]
  },
  {
   "cell_type": "code",
   "execution_count": 6,
   "metadata": {},
   "outputs": [
    {
     "name": "stdout",
     "output_type": "stream",
     "text": [
      "time_created    uint32\n",
      "date_created    object\n",
      "up_votes        uint16\n",
      "down_votes      uint16\n",
      "title           object\n",
      "over_18           bool\n",
      "author          object\n",
      "category        object\n",
      "dtype: object\n"
     ]
    }
   ],
   "source": [
    "def load_raw_data():\n",
    "    df = dd.read_csv(\"../data/raw/Eluvio_DS_Challenge.csv\", blocksize=64000000)\n",
    "    df.time_created = df.time_created.astype('uint32')\n",
    "    df.up_votes = df.up_votes.astype('uint16')\n",
    "    df.down_votes = df.down_votes.astype('uint16')\n",
    "\n",
    "    df = client.persist(df)\n",
    "    print df.dtypes\n",
    "    return df\n",
    "df = load_raw_data()"
   ]
  },
  {
   "cell_type": "code",
   "execution_count": 5,
   "metadata": {},
   "outputs": [
    {
     "name": "stdout",
     "output_type": "stream",
     "text": [
      "[(u'china', 26397), (u'says', 25432), (u'new', 23388), (u'syria', 19023), (u'russia', 18766), (u'world', 18091), (u'police', 16654), (u'government', 16305), (u'israel', 16048), (u'iran', 15816), (u'president', 15271), (u'killed', 14328), (u'people', 13991), (u'state', 13489), (u'attack', 12925)]\n"
     ]
    },
    {
     "data": {
      "image/png": "[encoded data removed]",
      "text/plain": [
       "<Figure size 1152x576 with 1 Axes>"
      ]
     },
     "metadata": {
      "needs_background": "light"
     },
     "output_type": "display_data"
    }
   ],
   "source": [
    "def get_top_n_words(corpus, n=None):\n",
    "    vec = CountVectorizer(stop_words='english').fit(corpus)\n",
    "    bag_of_words = vec.transform(corpus)\n",
    "    sum_words = bag_of_words.sum(axis=0)\n",
    "    words_freq = [(word, sum_words[0, idx]) for word, idx in vec.vocabulary_.items()]\n",
    "    words_freq = sorted(words_freq, key=lambda x: x[1], reverse=True)\n",
    "    return words_freq[:n]\n",
    "\n",
    "N = 15\n",
    "titles = df['title']\n",
    "top_N_words = get_top_n_words(titles.compute(), n=N)\n",
    "print top_N_words\n",
    "\n",
    "fig, ax = plt.subplots(figsize=(16, 8))\n",
    "words = [x[0] for x in top_N_words]\n",
    "ax.bar(range(N), [x[1] for x in top_N_words])\n",
    "ax.set_xticks(range(N))\n",
    "ax.set_xticklabels(words, rotation='vertical')\n",
    "ax.set_title('Top 15 words in title (excluding stop words)')\n",
    "ax.set_ylabel('Frequency')\n",
    "plt.show()"
   ]
  },
  {
   "cell_type": "code",
   "execution_count": null,
   "metadata": {},
   "outputs": [],
   "source": []
  }
 ],
 "metadata": {
  "kernelspec": {
   "display_name": "Python 2",
   "language": "python",
   "name": "python2"
  },
  "language_info": {
   "codemirror_mode": {
    "name": "ipython",
    "version": 2
   },
   "file_extension": ".py",
   "mimetype": "text/x-python",
   "name": "python",
   "nbconvert_exporter": "python",
   "pygments_lexer": "ipython2",
   "version": "2.7.10"
  }
 },
 "nbformat": 4,
 "nbformat_minor": 2
}
